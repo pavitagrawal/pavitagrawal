{
 "cells": [
  {
   "cell_type": "code",
   "execution_count": 1,
   "metadata": {},
   "outputs": [
    {
     "name": "stdout",
     "output_type": "stream",
     "text": [
      "Checking Stock Price: ₹105, RSI: 28\n",
      "ALERT: Stock price ₹105 is within Buy range and RSI 28 is Oversold. Consider Buying.\n",
      "Checking Stock Price: ₹155, RSI: 85\n",
      "ALERT: Stock price ₹155 is within Sell range and RSI 85 is Overbought. Consider Selling.\n",
      "Checking Stock Price: ₹100, RSI: 50\n",
      "Price ₹100 is in Buy range but RSI 50 doesn't indicate oversold.\n"
     ]
    }
   ],
   "source": [
    "import time\n",
    "\n",
    "buy_price_range = (100, 110)\n",
    "sell_price_range = (150, 160)\n",
    "stop_loss_percent = 10\n",
    "rsi_oversold = 30\n",
    "rsi_overbought = 80\n",
    "\n",
    "stock_data = [\n",
    "    {\"price\": 105, \"rsi\": 28},\n",
    "    {\"price\": 155, \"rsi\": 85},\n",
    "    {\"price\": 100, \"rsi\": 50},\n",
    "]\n",
    "\n",
    "def check_alerts(stock_price, rsi):\n",
    "\n",
    "    if buy_price_range[0] <= stock_price <= buy_price_range[1]:\n",
    "        if rsi < rsi_oversold:\n",
    "            print(f\"ALERT: Stock price ₹{stock_price} is within Buy range and RSI {rsi} is Oversold. Consider Buying.\")\n",
    "        else:\n",
    "            print(f\"Price ₹{stock_price} is in Buy range but RSI {rsi} doesn't indicate oversold.\")\n",
    "    \n",
    "    elif sell_price_range[0] <= stock_price <= sell_price_range[1]:\n",
    "        if rsi > rsi_overbought:\n",
    "            print(f\"ALERT: Stock price ₹{stock_price} is within Sell range and RSI {rsi} is Overbought. Consider Selling.\")\n",
    "        else:\n",
    "            print(f\"Price ₹{stock_price} is in Sell range but RSI {rsi} doesn't indicate overbought.\")\n",
    "\n",
    "    stop_loss_price = buy_price_range[0] * (1 - stop_loss_percent / 100)\n",
    "    if stock_price < stop_loss_price:\n",
    "        print(f\"ALERT: Stock price ₹{stock_price} has hit the Stop Loss level (₹{stop_loss_price}). Consider Exiting.\")\n",
    "\n",
    "for data in stock_data:\n",
    "    stock_price = data[\"price\"]\n",
    "    rsi = data[\"rsi\"]\n",
    "    print(f\"Checking Stock Price: ₹{stock_price}, RSI: {rsi}\")\n",
    "    check_alerts(stock_price, rsi)\n",
    "    time.sleep(2)\n"
   ]
  }
 ],
 "metadata": {
  "kernelspec": {
   "display_name": "Python 3",
   "language": "python",
   "name": "python3"
  },
  "language_info": {
   "codemirror_mode": {
    "name": "ipython",
    "version": 3
   },
   "file_extension": ".py",
   "mimetype": "text/x-python",
   "name": "python",
   "nbconvert_exporter": "python",
   "pygments_lexer": "ipython3",
   "version": "3.11.4"
  }
 },
 "nbformat": 4,
 "nbformat_minor": 2
}
